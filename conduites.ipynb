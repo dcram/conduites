{
 "cells": [
  {
   "cell_type": "code",
   "execution_count": 1,
   "id": "444adf51-0b49-4b83-baca-bd2a0f871bb8",
   "metadata": {
    "tags": []
   },
   "outputs": [],
   "source": [
    "from ortools.sat.python import cp_model\n",
    "import math\n"
   ]
  },
  {
   "cell_type": "code",
   "execution_count": 2,
   "id": "059c0fc2-9716-45b6-abc0-91344a4a273e",
   "metadata": {
    "tags": []
   },
   "outputs": [],
   "source": [
    "N_CHILDREN = 24\n",
    "N_WEEK_ENDS = 7"
   ]
  },
  {
   "cell_type": "markdown",
   "id": "19ded367-f338-4987-9825-9c03e7d20fb5",
   "metadata": {
    "tags": []
   },
   "source": [
    "### Premier model\n",
    "\n",
    "- une seule meute\n",
    "- chaque famille a deux enfants scouts (`N_FAMILLES = N_ENFANTS / 2` )\n",
    "- chaque famille a le même modèle de voiture (5pl, coffre moyen)"
   ]
  },
  {
   "cell_type": "code",
   "execution_count": 3,
   "id": "f38876d8-ef04-4981-98d4-177baf98fd13",
   "metadata": {},
   "outputs": [],
   "source": [
    "N_PLACES_PER_CAR = 5\n",
    "N_FAMILIES = int(N_CHILDREN / 2)"
   ]
  },
  {
   "cell_type": "code",
   "execution_count": 4,
   "id": "322b3691-49fb-4684-8c35-16db88e59261",
   "metadata": {
    "tags": []
   },
   "outputs": [],
   "source": [
    "model = cp_model.CpModel()"
   ]
  },
  {
   "cell_type": "code",
   "execution_count": 5,
   "id": "749439e2-6201-4e23-a049-32df65616bb5",
   "metadata": {
    "tags": []
   },
   "outputs": [],
   "source": [
    "# Définition des variables\n",
    "# C_i_j: la famille i effectue la conduite le week-end j\n",
    "\n",
    "vars = {}\n",
    "for i in range(0,N_FAMILIES):\n",
    "    for j in range(0,N_WEEK_ENDS):\n",
    "        vars[(i,j)] = model.NewBoolVar(f'family_{i}_weekend_{j}')"
   ]
  },
  {
   "cell_type": "code",
   "execution_count": 6,
   "id": "177923a0-e8cb-47eb-bcc9-5e253d027a98",
   "metadata": {
    "tags": []
   },
   "outputs": [
    {
     "name": "stdout",
     "output_type": "stream",
     "text": [
      "numTotalDrivings: 35\n",
      "minDrivingPerFamily: 2\n",
      "maxDrivingPerFamily: 3\n"
     ]
    }
   ],
   "source": [
    "# Définition des contraintes\n",
    "\n",
    "numTotalDrivings = N_WEEK_ENDS * math.ceil(N_CHILDREN / N_PLACES_PER_CAR)\n",
    "minDrivingPerFamily = numTotalDrivings // N_FAMILIES\n",
    "maxDrivingPerFamily = math.ceil(numTotalDrivings / N_FAMILIES)\n",
    "print(f'numTotalDrivings: {numTotalDrivings}')\n",
    "print(f'minDrivingPerFamily: {minDrivingPerFamily}')\n",
    "print(f'maxDrivingPerFamily: {maxDrivingPerFamily}')\n",
    "\n",
    "# Chaque famille doit faire entre minDrivingPerFamily et maxDrivingPerFamily\n",
    "for i in range(0,N_FAMILIES):\n",
    "    family_drivings = [vars[(i,j)] for j in range(0,N_WEEK_ENDS)]\n",
    "    model.Add(sum(family_drivings) <= maxDrivingPerFamily)\n",
    "    model.Add(sum(family_drivings) >= minDrivingPerFamily)\n",
    "\n",
    "# Exactement trois conduites par week-end\n",
    "for j in range(0,N_WEEK_ENDS):\n",
    "    weekend_drivings = [vars[(i,j)] for i in range(0,N_FAMILIES)]\n",
    "    model.Add(sum(weekend_drivings)*N_PLACES_PER_CAR >= N_CHILDREN)"
   ]
  },
  {
   "cell_type": "code",
   "execution_count": 7,
   "id": "cdaef964-cb43-494b-8e1a-a46b204ba784",
   "metadata": {},
   "outputs": [],
   "source": [
    "from driving_plan import DrivingPlan\n",
    "from driving_solution_collector import DrivingSolutionCollector"
   ]
  },
  {
   "cell_type": "code",
   "execution_count": 8,
   "id": "9bc9c17a-edf8-49bb-abf7-30b3f9e7ecbb",
   "metadata": {},
   "outputs": [],
   "source": [
    "solution_callback = DrivingSolutionCollector(limit=3, drivingVars=vars,\n",
    "                                                num_families = N_FAMILIES, num_weekends = N_WEEK_ENDS)"
   ]
  },
  {
   "cell_type": "code",
   "execution_count": 9,
   "id": "b1e26388-ab56-4880-8638-f52259feb886",
   "metadata": {},
   "outputs": [
    {
     "data": {
      "text/plain": [
       "2"
      ]
     },
     "execution_count": 9,
     "metadata": {},
     "output_type": "execute_result"
    }
   ],
   "source": [
    "solver = cp_model.CpSolver()\n",
    "solver.parameters.linearization_level = 0\n",
    "# Enumerate all solutions.\n",
    "solver.parameters.enumerate_all_solutions = True\n",
    "\n",
    "solver.Solve(model, solution_callback)"
   ]
  },
  {
   "cell_type": "code",
   "execution_count": 10,
   "id": "4688ddc3-e98a-4f68-834d-1584876387ef",
   "metadata": {},
   "outputs": [
    {
     "data": {
      "text/plain": [
       "[DrivingPlan(drivings=[(0, 2), (0, 3), (0, 4), (1, 4), (1, 5), (1, 6), (2, 3), (2, 4), (2, 5), (3, 3), (3, 4), (3, 5), (4, 3), (4, 4), (4, 5), (5, 3), (5, 5), (5, 6), (6, 0), (6, 2), (6, 6), (7, 0), (7, 1), (7, 6), (8, 1), (8, 2), (8, 6), (9, 0), (9, 1), (10, 0), (10, 1), (10, 2), (11, 0), (11, 1), (11, 2)]),\n",
       " DrivingPlan(drivings=[(0, 2), (0, 3), (0, 4), (1, 4), (1, 5), (1, 6), (2, 3), (2, 4), (2, 5), (3, 3), (3, 4), (3, 5), (4, 3), (4, 4), (4, 5), (5, 3), (5, 5), (5, 6), (6, 0), (6, 2), (6, 6), (7, 0), (7, 1), (7, 6), (8, 1), (8, 2), (8, 6), (9, 0), (9, 1), (9, 4), (10, 0), (10, 1), (10, 2), (11, 0), (11, 1), (11, 2)]),\n",
       " DrivingPlan(drivings=[(0, 2), (0, 3), (0, 4), (1, 4), (1, 5), (1, 6), (2, 3), (2, 4), (2, 5), (3, 3), (3, 4), (3, 5), (4, 3), (4, 4), (4, 5), (5, 3), (5, 5), (5, 6), (6, 0), (6, 2), (6, 6), (7, 0), (7, 1), (7, 6), (8, 1), (8, 2), (8, 6), (9, 0), (9, 1), (9, 2), (10, 0), (10, 1), (10, 2), (11, 0), (11, 1), (11, 2)])]"
      ]
     },
     "execution_count": 10,
     "metadata": {},
     "output_type": "execute_result"
    }
   ],
   "source": [
    "solution_callback.solutions"
   ]
  },
  {
   "cell_type": "code",
   "execution_count": 11,
   "id": "01660ee1-ab59-48e6-a880-cf633fe1e5bb",
   "metadata": {},
   "outputs": [
    {
     "name": "stdout",
     "output_type": "stream",
     "text": [
      "--------------------------------------------------------------------------------\n",
      "Weekend #0: Famille 6, Famille 7, Famille 9, Famille 10, Famille 11\n",
      "Weekend #1: Famille 7, Famille 8, Famille 9, Famille 10, Famille 11\n",
      "Weekend #2: Famille 0, Famille 6, Famille 8, Famille 10, Famille 11\n",
      "Weekend #3: Famille 0, Famille 2, Famille 3, Famille 4, Famille 5\n",
      "Weekend #4: Famille 0, Famille 1, Famille 2, Famille 3, Famille 4\n",
      "Weekend #5: Famille 1, Famille 2, Famille 3, Famille 4, Famille 5\n",
      "Weekend #6: Famille 1, Famille 5, Famille 6, Famille 7, Famille 8\n",
      "----------\n",
      "Family #0: WE2, WE3, WE4\n",
      "Family #1: WE4, WE5, WE6\n",
      "Family #2: WE3, WE4, WE5\n",
      "Family #3: WE3, WE4, WE5\n",
      "Family #4: WE3, WE4, WE5\n",
      "Family #5: WE3, WE5, WE6\n",
      "Family #6: WE0, WE2, WE6\n",
      "Family #7: WE0, WE1, WE6\n",
      "Family #8: WE1, WE2, WE6\n",
      "Family #9: WE0, WE1\n",
      "Family #10: WE0, WE1, WE2\n",
      "Family #11: WE0, WE1, WE2\n",
      "--------------------------------------------------------------------------------\n",
      "Weekend #0: Famille 6, Famille 7, Famille 9, Famille 10, Famille 11\n",
      "Weekend #1: Famille 7, Famille 8, Famille 9, Famille 10, Famille 11\n",
      "Weekend #2: Famille 0, Famille 6, Famille 8, Famille 10, Famille 11\n",
      "Weekend #3: Famille 0, Famille 2, Famille 3, Famille 4, Famille 5\n",
      "Weekend #4: Famille 0, Famille 1, Famille 2, Famille 3, Famille 4, Famille 9\n",
      "Weekend #5: Famille 1, Famille 2, Famille 3, Famille 4, Famille 5\n",
      "Weekend #6: Famille 1, Famille 5, Famille 6, Famille 7, Famille 8\n",
      "----------\n",
      "Family #0: WE2, WE3, WE4\n",
      "Family #1: WE4, WE5, WE6\n",
      "Family #2: WE3, WE4, WE5\n",
      "Family #3: WE3, WE4, WE5\n",
      "Family #4: WE3, WE4, WE5\n",
      "Family #5: WE3, WE5, WE6\n",
      "Family #6: WE0, WE2, WE6\n",
      "Family #7: WE0, WE1, WE6\n",
      "Family #8: WE1, WE2, WE6\n",
      "Family #9: WE0, WE1, WE4\n",
      "Family #10: WE0, WE1, WE2\n",
      "Family #11: WE0, WE1, WE2\n",
      "--------------------------------------------------------------------------------\n",
      "Weekend #0: Famille 6, Famille 7, Famille 9, Famille 10, Famille 11\n",
      "Weekend #1: Famille 7, Famille 8, Famille 9, Famille 10, Famille 11\n",
      "Weekend #2: Famille 0, Famille 6, Famille 8, Famille 9, Famille 10, Famille 11\n",
      "Weekend #3: Famille 0, Famille 2, Famille 3, Famille 4, Famille 5\n",
      "Weekend #4: Famille 0, Famille 1, Famille 2, Famille 3, Famille 4\n",
      "Weekend #5: Famille 1, Famille 2, Famille 3, Famille 4, Famille 5\n",
      "Weekend #6: Famille 1, Famille 5, Famille 6, Famille 7, Famille 8\n",
      "----------\n",
      "Family #0: WE2, WE3, WE4\n",
      "Family #1: WE4, WE5, WE6\n",
      "Family #2: WE3, WE4, WE5\n",
      "Family #3: WE3, WE4, WE5\n",
      "Family #4: WE3, WE4, WE5\n",
      "Family #5: WE3, WE5, WE6\n",
      "Family #6: WE0, WE2, WE6\n",
      "Family #7: WE0, WE1, WE6\n",
      "Family #8: WE1, WE2, WE6\n",
      "Family #9: WE0, WE1, WE2\n",
      "Family #10: WE0, WE1, WE2\n",
      "Family #11: WE0, WE1, WE2\n"
     ]
    }
   ],
   "source": [
    "for s in solution_callback.solutions:\n",
    "    s.show()"
   ]
  },
  {
   "cell_type": "code",
   "execution_count": null,
   "id": "9b2e4f80-0e07-459c-acc6-7f7080c56dfc",
   "metadata": {},
   "outputs": [],
   "source": []
  },
  {
   "cell_type": "code",
   "execution_count": null,
   "id": "d89dd3dd-9136-45fc-b899-19f6da75daf6",
   "metadata": {},
   "outputs": [],
   "source": []
  }
 ],
 "metadata": {
  "kernelspec": {
   "display_name": "Python 3 (ipykernel)",
   "language": "python",
   "name": "python3"
  },
  "language_info": {
   "codemirror_mode": {
    "name": "ipython",
    "version": 3
   },
   "file_extension": ".py",
   "mimetype": "text/x-python",
   "name": "python",
   "nbconvert_exporter": "python",
   "pygments_lexer": "ipython3",
   "version": "3.10.8"
  }
 },
 "nbformat": 4,
 "nbformat_minor": 5
}
